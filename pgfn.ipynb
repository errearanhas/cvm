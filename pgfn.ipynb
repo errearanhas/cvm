{
 "cells": [
  {
   "cell_type": "code",
   "execution_count": 3,
   "metadata": {},
   "outputs": [],
   "source": [
    "from selenium import webdriver # web scraping\n",
    "from selenium.webdriver.support.ui import Select # web scraping\n",
    "from selenium.webdriver.common.keys import Keys # web scraping\n",
    "from bs4 import BeautifulSoup # tratamento de html\n",
    "import pandas as pd # tratamento de dados tabulares\n",
    "import re # expressoes regulares\n",
    "from zipfile import ZipFile\n",
    "import time"
   ]
  },
  {
   "cell_type": "code",
   "execution_count": 4,
   "metadata": {},
   "outputs": [],
   "source": [
    "# PGFN\n",
    "\n",
    "options = webdriver.ChromeOptions()\n",
    "options.add_argument('--no-sandbox')\n",
    "options.add_argument('--disable-gpu')"
   ]
  },
  {
   "cell_type": "code",
   "execution_count": 5,
   "metadata": {},
   "outputs": [],
   "source": [
    "url1 = 'https://www.listadevedores.pgfn.gov.br/'\n",
    "driver = webdriver.Chrome(options=options)\n",
    "driver.get(url1)"
   ]
  },
  {
   "cell_type": "code",
   "execution_count": 29,
   "metadata": {},
   "outputs": [],
   "source": [
    "# SELECT UF\n",
    "\n",
    "UF = driver.find_element_by_id('ufInput')\n",
    "options = [i.get_attribute(\"value\") for i in UF.find_elements_by_tag_name(\"option\")]\n",
    "UF_field = Select(UF)\n",
    "UF_field.select_by_value('AL') # loop in options list"
   ]
  },
  {
   "cell_type": "code",
   "execution_count": 53,
   "metadata": {},
   "outputs": [],
   "source": [
    "id = ['nat_0', 'nat_1', 'nat_2', 'nat_3', 'nat_4', 'nat_5', 'nat_6']\n",
    "xpaths = ['//*[@id=\"'+str(i)+'\"]' for i in id]\n",
    "nome = ['FGTS', 'PREV']"
   ]
  },
  {
   "cell_type": "code",
   "execution_count": 40,
   "metadata": {},
   "outputs": [],
   "source": [
    "box = driver.find_element_by_xpath(xpaths[1])\n",
    "box.is_selected()\n",
    "driver.execute_script(\"arguments[0].click();\", box)"
   ]
  },
  {
   "cell_type": "code",
   "execution_count": 41,
   "metadata": {},
   "outputs": [],
   "source": [
    "# press button CONSULTAR\n",
    "consult = driver.find_element_by_xpath('/html/body/dev-root/dev-consulta/main/dev-filtros/div[3]/div/div/button[1]')\n",
    "consult.click()"
   ]
  },
  {
   "cell_type": "code",
   "execution_count": 42,
   "metadata": {},
   "outputs": [],
   "source": [
    "export = driver.find_element_by_xpath('/html/body/dev-root/dev-consulta/main/dev-resultados/div[3]/div/button[1]')\n",
    "export.click()"
   ]
  },
  {
   "cell_type": "code",
   "execution_count": 44,
   "metadata": {},
   "outputs": [],
   "source": [
    "zf = ZipFile('Consulta_Lista_Devedores_2020_04_08.zip')\n",
    "\n",
    "df_title = pd.read_fwf('Consulta_Lista_Devedores_2020_04_08.csv', sep=';', skiprows=1)\n",
    "\n",
    "df = pd.read_csv(zf.open('Consulta_Lista_Devedores_2020_04_08.csv'), sep=';', encoding=\"ISO-8859-1\", skiprows=9)"
   ]
  },
  {
   "cell_type": "code",
   "execution_count": 57,
   "metadata": {},
   "outputs": [],
   "source": [
    "df['UF'] = df_title.iloc[0][0][-3:-1]\n",
    "df = df.query('Nome.str.contains(\"LTDA|EIRELI\")==False')\n",
    "df = df[~df[\"CPF/CNPJ\"].str.contains(\"\\*\")].reset_index(drop=1)\n",
    "df['Natureza'] = nome[1]"
   ]
  },
  {
   "cell_type": "code",
   "execution_count": 59,
   "metadata": {},
   "outputs": [],
   "source": [
    "df.to_csv('sample_file.csv')"
   ]
  },
  {
   "cell_type": "code",
   "execution_count": 60,
   "metadata": {},
   "outputs": [
    {
     "data": {
      "text/html": [
       "<div>\n",
       "<style scoped>\n",
       "    .dataframe tbody tr th:only-of-type {\n",
       "        vertical-align: middle;\n",
       "    }\n",
       "\n",
       "    .dataframe tbody tr th {\n",
       "        vertical-align: top;\n",
       "    }\n",
       "\n",
       "    .dataframe thead th {\n",
       "        text-align: right;\n",
       "    }\n",
       "</style>\n",
       "<table border=\"1\" class=\"dataframe\">\n",
       "  <thead>\n",
       "    <tr style=\"text-align: right;\">\n",
       "      <th></th>\n",
       "      <th>CPF/CNPJ</th>\n",
       "      <th>Nome</th>\n",
       "      <th>Nome Fantasia</th>\n",
       "      <th>Valor Total</th>\n",
       "      <th>Valor da Dívida Selecionada</th>\n",
       "      <th>UF</th>\n",
       "      <th>Natureza</th>\n",
       "    </tr>\n",
       "  </thead>\n",
       "  <tbody>\n",
       "    <tr>\n",
       "      <th>0</th>\n",
       "      <td>12.274.379/0001-07</td>\n",
       "      <td>LAGINHA AGRO INDUSTRIAL SA</td>\n",
       "      <td>NaN</td>\n",
       "      <td>1.449.587.099,97</td>\n",
       "      <td>47.003.690,95</td>\n",
       "      <td>AL</td>\n",
       "      <td>PREV</td>\n",
       "    </tr>\n",
       "    <tr>\n",
       "      <th>1</th>\n",
       "      <td>12.275.715/0001-36</td>\n",
       "      <td>SA LEAO IMRAOS ACUCAR E ALCOOL  EM RECUPERACAO...</td>\n",
       "      <td>USINA CENTRAL LEAO</td>\n",
       "      <td>540.690.712,18</td>\n",
       "      <td>50.863.418,17</td>\n",
       "      <td>AL</td>\n",
       "      <td>PREV</td>\n",
       "    </tr>\n",
       "    <tr>\n",
       "      <th>2</th>\n",
       "      <td>12.607.842/0001-95</td>\n",
       "      <td>USINA SANTA CLOTILDE S A</td>\n",
       "      <td>USINA SANTA CLOTILDE</td>\n",
       "      <td>336.649.703,21</td>\n",
       "      <td>19.022.359,70</td>\n",
       "      <td>AL</td>\n",
       "      <td>PREV</td>\n",
       "    </tr>\n",
       "    <tr>\n",
       "      <th>3</th>\n",
       "      <td>12.272.498/0001-20</td>\n",
       "      <td>USINA CANSANCAO DE SINIMBU SA</td>\n",
       "      <td>USINA SINIMBU</td>\n",
       "      <td>305.468.599,83</td>\n",
       "      <td>15.002.140,55</td>\n",
       "      <td>AL</td>\n",
       "      <td>PREV</td>\n",
       "    </tr>\n",
       "    <tr>\n",
       "      <th>4</th>\n",
       "      <td>12.265.245/0001-20</td>\n",
       "      <td>USINAS REUNIDAS SERESTA SA  EM RECUPERACAO JUD...</td>\n",
       "      <td>USINA SERESTA</td>\n",
       "      <td>262.414.242,36</td>\n",
       "      <td>7.254.447,10</td>\n",
       "      <td>AL</td>\n",
       "      <td>PREV</td>\n",
       "    </tr>\n",
       "  </tbody>\n",
       "</table>\n",
       "</div>"
      ],
      "text/plain": [
       "             CPF/CNPJ                                               Nome  \\\n",
       "0  12.274.379/0001-07                         LAGINHA AGRO INDUSTRIAL SA   \n",
       "1  12.275.715/0001-36  SA LEAO IMRAOS ACUCAR E ALCOOL  EM RECUPERACAO...   \n",
       "2  12.607.842/0001-95                           USINA SANTA CLOTILDE S A   \n",
       "3  12.272.498/0001-20                      USINA CANSANCAO DE SINIMBU SA   \n",
       "4  12.265.245/0001-20  USINAS REUNIDAS SERESTA SA  EM RECUPERACAO JUD...   \n",
       "\n",
       "          Nome Fantasia       Valor Total Valor da Dívida Selecionada  UF  \\\n",
       "0                   NaN  1.449.587.099,97               47.003.690,95  AL   \n",
       "1    USINA CENTRAL LEAO    540.690.712,18               50.863.418,17  AL   \n",
       "2  USINA SANTA CLOTILDE    336.649.703,21               19.022.359,70  AL   \n",
       "3         USINA SINIMBU    305.468.599,83               15.002.140,55  AL   \n",
       "4         USINA SERESTA    262.414.242,36                7.254.447,10  AL   \n",
       "\n",
       "  Natureza  \n",
       "0     PREV  \n",
       "1     PREV  \n",
       "2     PREV  \n",
       "3     PREV  \n",
       "4     PREV  "
      ]
     },
     "execution_count": 60,
     "metadata": {},
     "output_type": "execute_result"
    }
   ],
   "source": [
    "df.head()"
   ]
  },
  {
   "cell_type": "code",
   "execution_count": 4,
   "metadata": {},
   "outputs": [],
   "source": [
    "# CVM\n",
    "\n",
    "url2 = 'https://cvmweb.cvm.gov.br/SWB/Sistemas/SCW/CPublica/CiaAb/FormBuscaCiaAb.aspx?TipoConsult=c'"
   ]
  },
  {
   "cell_type": "code",
   "execution_count": 6,
   "metadata": {},
   "outputs": [],
   "source": [
    "options = webdriver.ChromeOptions()\n",
    "options.add_argument('--no-sandbox')\n",
    "options.add_argument('--disable-gpu')"
   ]
  },
  {
   "cell_type": "code",
   "execution_count": 7,
   "metadata": {},
   "outputs": [],
   "source": [
    "driver1 = webdriver.Chrome(options=options)\n",
    "driver1.get(url2)"
   ]
  },
  {
   "cell_type": "code",
   "execution_count": 10,
   "metadata": {},
   "outputs": [],
   "source": [
    "df = pd.read_csv('sample_file.csv')"
   ]
  },
  {
   "cell_type": "code",
   "execution_count": 15,
   "metadata": {},
   "outputs": [],
   "source": [
    "doc = df[\"CPF/CNPJ\"][1]"
   ]
  },
  {
   "cell_type": "code",
   "execution_count": 17,
   "metadata": {},
   "outputs": [],
   "source": [
    "doc = re.sub(r'[^\\w]','', doc)"
   ]
  },
  {
   "cell_type": "code",
   "execution_count": 20,
   "metadata": {},
   "outputs": [],
   "source": [
    "field = driver1.find_element_by_id('txtCNPJNome')"
   ]
  },
  {
   "cell_type": "code",
   "execution_count": 22,
   "metadata": {},
   "outputs": [],
   "source": [
    "field.clear()\n",
    "field.send_keys(doc)"
   ]
  },
  {
   "cell_type": "code",
   "execution_count": 23,
   "metadata": {},
   "outputs": [],
   "source": [
    "cont = driver1.find_element_by_id('btnContinuar')\n",
    "cont.click()"
   ]
  },
  {
   "cell_type": "code",
   "execution_count": 25,
   "metadata": {},
   "outputs": [
    {
     "name": "stdout",
     "output_type": "stream",
     "text": [
      "encontrou\n"
     ]
    }
   ],
   "source": [
    "if driver1.find_element_by_id('lblMsg'):\n",
    "    df['status'] = 'nao listada'\n",
    "    print('encontrou')"
   ]
  },
  {
   "cell_type": "code",
   "execution_count": 26,
   "metadata": {},
   "outputs": [],
   "source": [
    "page = BeautifulSoup(driver1.page_source, 'lxml')"
   ]
  },
  {
   "cell_type": "code",
   "execution_count": 27,
   "metadata": {},
   "outputs": [],
   "source": [
    "table = page.find('table', id='dlCiasCdCVM')"
   ]
  },
  {
   "cell_type": "code",
   "execution_count": 28,
   "metadata": {},
   "outputs": [],
   "source": [
    "tabela_companhia = pd.read_html(str(table), header=0)[0]"
   ]
  },
  {
   "cell_type": "code",
   "execution_count": 29,
   "metadata": {},
   "outputs": [
    {
     "data": {
      "text/html": [
       "<div>\n",
       "<style scoped>\n",
       "    .dataframe tbody tr th:only-of-type {\n",
       "        vertical-align: middle;\n",
       "    }\n",
       "\n",
       "    .dataframe tbody tr th {\n",
       "        vertical-align: top;\n",
       "    }\n",
       "\n",
       "    .dataframe thead th {\n",
       "        text-align: right;\n",
       "    }\n",
       "</style>\n",
       "<table border=\"1\" class=\"dataframe\">\n",
       "  <thead>\n",
       "    <tr style=\"text-align: right;\">\n",
       "      <th></th>\n",
       "      <th>CNPJ</th>\n",
       "      <th>NOME</th>\n",
       "      <th>TIPO DE PARTICIPANTE</th>\n",
       "      <th>CÓDIGO CVM</th>\n",
       "      <th>SITUAÇÃO REGISTRO</th>\n",
       "    </tr>\n",
       "  </thead>\n",
       "  <tbody>\n",
       "    <tr>\n",
       "      <th>0</th>\n",
       "      <td>34.274.233/0001-02</td>\n",
       "      <td>PETROBRAS DISTRIBUIDORA SA</td>\n",
       "      <td>CIAS ABERTAS</td>\n",
       "      <td>14249</td>\n",
       "      <td>Cancelado em 05/02/2003</td>\n",
       "    </tr>\n",
       "    <tr>\n",
       "      <th>1</th>\n",
       "      <td>34.274.233/0001-02</td>\n",
       "      <td>PETROBRAS DISTRIBUIDORA SA</td>\n",
       "      <td>CIAS ABERTAS</td>\n",
       "      <td>24295</td>\n",
       "      <td>Concedido em 12/12/2017</td>\n",
       "    </tr>\n",
       "    <tr>\n",
       "      <th>2</th>\n",
       "      <td>33.795.055/0001-94</td>\n",
       "      <td>PETROBRAS QUÍMICA S.A.- PETROQUISA</td>\n",
       "      <td>CIAS ABERTAS</td>\n",
       "      <td>13595</td>\n",
       "      <td>Cancelado em 08/11/2006</td>\n",
       "    </tr>\n",
       "    <tr>\n",
       "      <th>3</th>\n",
       "      <td>33.000.167/0001-01</td>\n",
       "      <td>PETRÓLEO BRASILEIRO S.A. - PETROBRAS</td>\n",
       "      <td>CIAS ABERTAS</td>\n",
       "      <td>9512</td>\n",
       "      <td>Concedido em 20/07/1977</td>\n",
       "    </tr>\n",
       "  </tbody>\n",
       "</table>\n",
       "</div>"
      ],
      "text/plain": [
       "                 CNPJ                                  NOME  \\\n",
       "0  34.274.233/0001-02            PETROBRAS DISTRIBUIDORA SA   \n",
       "1  34.274.233/0001-02            PETROBRAS DISTRIBUIDORA SA   \n",
       "2  33.795.055/0001-94    PETROBRAS QUÍMICA S.A.- PETROQUISA   \n",
       "3  33.000.167/0001-01  PETRÓLEO BRASILEIRO S.A. - PETROBRAS   \n",
       "\n",
       "  TIPO DE PARTICIPANTE  CÓDIGO CVM        SITUAÇÃO REGISTRO  \n",
       "0         CIAS ABERTAS       14249  Cancelado em 05/02/2003  \n",
       "1         CIAS ABERTAS       24295  Concedido em 12/12/2017  \n",
       "2         CIAS ABERTAS       13595  Cancelado em 08/11/2006  \n",
       "3         CIAS ABERTAS        9512  Concedido em 20/07/1977  "
      ]
     },
     "execution_count": 29,
     "metadata": {},
     "output_type": "execute_result"
    }
   ],
   "source": [
    "tabela_companhia"
   ]
  },
  {
   "cell_type": "code",
   "execution_count": 30,
   "metadata": {},
   "outputs": [],
   "source": [
    "tabela_companhia = tabela_companhia.query('`SITUAÇÃO REGISTRO`.str.contains(\"Cancelado\")==False')"
   ]
  },
  {
   "cell_type": "code",
   "execution_count": 31,
   "metadata": {},
   "outputs": [
    {
     "data": {
      "text/html": [
       "<div>\n",
       "<style scoped>\n",
       "    .dataframe tbody tr th:only-of-type {\n",
       "        vertical-align: middle;\n",
       "    }\n",
       "\n",
       "    .dataframe tbody tr th {\n",
       "        vertical-align: top;\n",
       "    }\n",
       "\n",
       "    .dataframe thead th {\n",
       "        text-align: right;\n",
       "    }\n",
       "</style>\n",
       "<table border=\"1\" class=\"dataframe\">\n",
       "  <thead>\n",
       "    <tr style=\"text-align: right;\">\n",
       "      <th></th>\n",
       "      <th>CNPJ</th>\n",
       "      <th>NOME</th>\n",
       "      <th>TIPO DE PARTICIPANTE</th>\n",
       "      <th>CÓDIGO CVM</th>\n",
       "      <th>SITUAÇÃO REGISTRO</th>\n",
       "    </tr>\n",
       "  </thead>\n",
       "  <tbody>\n",
       "    <tr>\n",
       "      <th>1</th>\n",
       "      <td>34.274.233/0001-02</td>\n",
       "      <td>PETROBRAS DISTRIBUIDORA SA</td>\n",
       "      <td>CIAS ABERTAS</td>\n",
       "      <td>24295</td>\n",
       "      <td>Concedido em 12/12/2017</td>\n",
       "    </tr>\n",
       "    <tr>\n",
       "      <th>3</th>\n",
       "      <td>33.000.167/0001-01</td>\n",
       "      <td>PETRÓLEO BRASILEIRO S.A. - PETROBRAS</td>\n",
       "      <td>CIAS ABERTAS</td>\n",
       "      <td>9512</td>\n",
       "      <td>Concedido em 20/07/1977</td>\n",
       "    </tr>\n",
       "  </tbody>\n",
       "</table>\n",
       "</div>"
      ],
      "text/plain": [
       "                 CNPJ                                  NOME  \\\n",
       "1  34.274.233/0001-02            PETROBRAS DISTRIBUIDORA SA   \n",
       "3  33.000.167/0001-01  PETRÓLEO BRASILEIRO S.A. - PETROBRAS   \n",
       "\n",
       "  TIPO DE PARTICIPANTE  CÓDIGO CVM        SITUAÇÃO REGISTRO  \n",
       "1         CIAS ABERTAS       24295  Concedido em 12/12/2017  \n",
       "3         CIAS ABERTAS        9512  Concedido em 20/07/1977  "
      ]
     },
     "execution_count": 31,
     "metadata": {},
     "output_type": "execute_result"
    }
   ],
   "source": [
    "tabela_companhia"
   ]
  },
  {
   "cell_type": "code",
   "execution_count": 34,
   "metadata": {},
   "outputs": [
    {
     "data": {
      "text/plain": [
       "24295"
      ]
     },
     "execution_count": 34,
     "metadata": {},
     "output_type": "execute_result"
    }
   ],
   "source": [
    "for i in tabela_companhia['CÓDIGO CVM'].values:\n",
    "    execute action"
   ]
  },
  {
   "cell_type": "code",
   "execution_count": 35,
   "metadata": {},
   "outputs": [],
   "source": [
    "first_code_cvm = tabela_companhia['CÓDIGO CVM'].values[0]"
   ]
  },
  {
   "cell_type": "code",
   "execution_count": 37,
   "metadata": {},
   "outputs": [],
   "source": [
    "button = driver1.find_element_by_link_text(str(first_code_cvm))"
   ]
  },
  {
   "cell_type": "code",
   "execution_count": 38,
   "metadata": {},
   "outputs": [],
   "source": [
    "button.click()"
   ]
  },
  {
   "cell_type": "code",
   "execution_count": null,
   "metadata": {},
   "outputs": [],
   "source": [
    "code1\n",
    "time.sleep(5)\n",
    "code2"
   ]
  }
 ],
 "metadata": {
  "kernelspec": {
   "display_name": "Python 3",
   "language": "python",
   "name": "python3"
  },
  "language_info": {
   "codemirror_mode": {
    "name": "ipython",
    "version": 3
   },
   "file_extension": ".py",
   "mimetype": "text/x-python",
   "name": "python",
   "nbconvert_exporter": "python",
   "pygments_lexer": "ipython3",
   "version": "3.7.6"
  }
 },
 "nbformat": 4,
 "nbformat_minor": 4
}
